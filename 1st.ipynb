{
 "cells": [
  {
   "cell_type": "markdown",
   "metadata": {},
   "source": [
    "Python "
   ]
  },
  {
   "cell_type": "markdown",
   "metadata": {},
   "source": [
    "1- write a Python program to swap first and last element of the list."
   ]
  },
  {
   "cell_type": "code",
   "execution_count": 7,
   "metadata": {},
   "outputs": [
    {
     "name": "stdout",
     "output_type": "stream",
     "text": [
      "[2444, 14, 67, 23, 12]\n"
     ]
    }
   ],
   "source": [
    "def swaplist(newlsit):\n",
    "  newlsit[0], newlsit[-1] = newlsit[-1], newlsit[0]\n",
    "  return newlsit\n",
    "x=[12,14,67,23,2444]\n",
    "print(swaplist(x))"
   ]
  },
  {
   "cell_type": "markdown",
   "metadata": {},
   "source": [
    "Other approach "
   ]
  },
  {
   "cell_type": "code",
   "execution_count": 8,
   "metadata": {},
   "outputs": [
    {
     "name": "stdout",
     "output_type": "stream",
     "text": [
      "[56, 19, 90, 45, 13.1]\n"
     ]
    }
   ],
   "source": [
    "def swap(value):\n",
    "  start, *middle, end = value\n",
    "  value = [end, *middle, start]\n",
    "  return value\n",
    "y= [13.1, 19,90,45,56]\n",
    "print(swap(y))  "
   ]
  },
  {
   "cell_type": "markdown",
   "metadata": {},
   "source": [
    "2- Find the Length of a list"
   ]
  },
  {
   "cell_type": "code",
   "execution_count": 10,
   "metadata": {},
   "outputs": [
    {
     "name": "stdout",
     "output_type": "stream",
     "text": [
      "Lenth of list :- 6\n"
     ]
    }
   ],
   "source": [
    "x=[12,14,16,17,89,23]\n",
    "print('Lenth of list :-', len(x))"
   ]
  },
  {
   "cell_type": "code",
   "execution_count": 13,
   "metadata": {},
   "outputs": [
    {
     "name": "stdout",
     "output_type": "stream",
     "text": [
      "Counter of list is : 8\n"
     ]
    }
   ],
   "source": [
    "# other approach \n",
    "x= [12,14,16,78,90,75,67,89]\n",
    "counter = 0\n",
    "for i in x:\n",
    "  counter +=1\n",
    "print(\"Counter of list is :\", str(counter))"
   ]
  },
  {
   "cell_type": "markdown",
   "metadata": {},
   "source": [
    "3- Find Maximum of two numbers"
   ]
  },
  {
   "cell_type": "code",
   "execution_count": 17,
   "metadata": {},
   "outputs": [
    {
     "name": "stdout",
     "output_type": "stream",
     "text": [
      "45 is grater\n"
     ]
    }
   ],
   "source": [
    "a=45;b=13\n",
    "def max_number(x,y):\n",
    "  if x > y:\n",
    "    return f'{x} is grater'\n",
    "  else:\n",
    "    return f'{y} is grater'\n",
    "print(max_number(a,b))"
   ]
  },
  {
   "cell_type": "code",
   "execution_count": 18,
   "metadata": {},
   "outputs": [
    {
     "name": "stdout",
     "output_type": "stream",
     "text": [
      "max number is : 45\n"
     ]
    }
   ],
   "source": [
    "a=24\n",
    "b=45 \n",
    "maximum = max(a,b)\n",
    "print('max number is :',maximum)"
   ]
  },
  {
   "cell_type": "markdown",
   "metadata": {},
   "source": [
    "4- Find Minimum of two numbers"
   ]
  },
  {
   "cell_type": "code",
   "execution_count": 19,
   "metadata": {},
   "outputs": [
    {
     "name": "stdout",
     "output_type": "stream",
     "text": [
      "12\n"
     ]
    }
   ],
   "source": [
    "a = 12 \n",
    "b = 34 \n",
    "minimum = min(a,b)\n",
    "print(minimum)"
   ]
  },
  {
   "cell_type": "code",
   "execution_count": 23,
   "metadata": {},
   "outputs": [
    {
     "name": "stdout",
     "output_type": "stream",
     "text": [
      "9\n"
     ]
    }
   ],
   "source": [
    "# other approach\n",
    "a=12 ; b=9 \n",
    "print(a if a<b else b)"
   ]
  },
  {
   "cell_type": "code",
   "execution_count": 25,
   "metadata": {},
   "outputs": [
    {
     "name": "stdout",
     "output_type": "stream",
     "text": [
      "both same\n"
     ]
    }
   ],
   "source": [
    "# if number is same \n",
    "a = 12 ; b=12 \n",
    "print('grater' if a>b else('both same' if a==b else b) )"
   ]
  },
  {
   "cell_type": "code",
   "execution_count": 29,
   "metadata": {},
   "outputs": [
    {
     "name": "stdout",
     "output_type": "stream",
     "text": [
      "12\n"
     ]
    }
   ],
   "source": [
    "# using lambda function\n",
    "a= 12; b= 10\n",
    "grater = lambda x,y: x if x>y else y\n",
    "print(grater(a,b))\n"
   ]
  },
  {
   "cell_type": "code",
   "execution_count": 30,
   "metadata": {},
   "outputs": [
    {
     "name": "stdout",
     "output_type": "stream",
     "text": [
      "both are same\n"
     ]
    }
   ],
   "source": [
    "a= 12; b= 12\n",
    "details = lambda x,y: x if x>y else('both are same' if x==y else y)\n",
    "print(details(a,b))"
   ]
  },
  {
   "cell_type": "markdown",
   "metadata": {},
   "source": [
    "Check if element exists in list in Python\n",
    "Input: test_list = [1, 6, 3, 5, 3, 4]\n",
    "            3  # Check if 3 exist or not.\n",
    "Output: True"
   ]
  },
  {
   "cell_type": "code",
   "execution_count": 34,
   "metadata": {},
   "outputs": [
    {
     "name": "stdout",
     "output_type": "stream",
     "text": [
      "not exist\n"
     ]
    }
   ],
   "source": [
    "test_list = [1, 6, 30, 5, 33, 4]\n",
    "if 3 in test_list:\n",
    "  print('exist')\n",
    "else:\n",
    "  print('not exist')"
   ]
  },
  {
   "cell_type": "code",
   "execution_count": 38,
   "metadata": {},
   "outputs": [],
   "source": [
    "# using loop \n",
    "test_list = [1, 6, 30, 5, 33, 4]\n",
    "for i in test_list:\n",
    "  if (i == 3):\n",
    "    print(' exist')\n"
   ]
  },
  {
   "cell_type": "markdown",
   "metadata": {},
   "source": [
    "Remove items from a List in Python"
   ]
  },
  {
   "cell_type": "code",
   "execution_count": 40,
   "metadata": {},
   "outputs": [
    {
     "name": "stdout",
     "output_type": "stream",
     "text": [
      "[]\n"
     ]
    }
   ],
   "source": [
    "x = [6, 0, 4, 1]\n",
    "x.clear()\n",
    "print(x)"
   ]
  },
  {
   "cell_type": "code",
   "execution_count": 41,
   "metadata": {},
   "outputs": [
    {
     "name": "stdout",
     "output_type": "stream",
     "text": [
      "values of : [1, 2, 3, 4, 5]\n",
      "value of y : []\n"
     ]
    }
   ],
   "source": [
    "# other approach is assing blank in same value \n",
    "y = [1,2,3,4,5]\n",
    "print('values of :', y)\n",
    "y = []\n",
    "print('value of y :',y)"
   ]
  },
  {
   "cell_type": "code",
   "execution_count": 45,
   "metadata": {},
   "outputs": [
    {
     "name": "stdout",
     "output_type": "stream",
     "text": [
      "[2, 3, 4, 5]\n"
     ]
    }
   ],
   "source": [
    "# remove a specific value\n",
    "y = [1,2,3,4,5]\n",
    "y.remove(y[0])\n",
    "print(y)"
   ]
  },
  {
   "cell_type": "markdown",
   "metadata": {},
   "source": [
    "Reverse a List in Python"
   ]
  },
  {
   "cell_type": "code",
   "execution_count": 48,
   "metadata": {},
   "outputs": [
    {
     "name": "stdout",
     "output_type": "stream",
     "text": [
      "[9, 8, 7, 6, 5, 4]\n"
     ]
    }
   ],
   "source": [
    "z = [4, 5, 6, 7, 8, 9]\n",
    "new_list=z[::-1]\n",
    "print(new_list)"
   ]
  },
  {
   "cell_type": "code",
   "execution_count": 49,
   "metadata": {},
   "outputs": [
    {
     "name": "stdout",
     "output_type": "stream",
     "text": [
      "using revers() : [9, 8, 7, 6, 5, 4]\n"
     ]
    }
   ],
   "source": [
    "# other approach\n",
    "z = [4, 5, 6, 7, 8, 9]\n",
    "z.reverse()\n",
    "print(\"using revers() :\",z)"
   ]
  },
  {
   "cell_type": "markdown",
   "metadata": {},
   "source": [
    "Cloning or Copying a list -- sciling, extend, copy, = operator \n"
   ]
  },
  {
   "cell_type": "code",
   "execution_count": 50,
   "metadata": {},
   "outputs": [
    {
     "name": "stdout",
     "output_type": "stream",
     "text": [
      "copy list is : [4, 5, 6, 7, 8, 9]\n"
     ]
    }
   ],
   "source": [
    "def clone_list(newlist):\n",
    "  newlist = newlist[:]\n",
    "  return newlist\n",
    "\n",
    "list_1 = [4, 5, 6, 7, 8, 9]\n",
    "print('copy list is :', clone_list)\n"
   ]
  },
  {
   "cell_type": "code",
   "execution_count": 51,
   "metadata": {},
   "outputs": [
    {
     "name": "stdout",
     "output_type": "stream",
     "text": [
      "cloneing a list : [4, 5, 6, 7, 8, 9]\n"
     ]
    }
   ],
   "source": [
    "# Using Extend Methods \n",
    "def colneing(lis):\n",
    "  list_copy = []\n",
    "  list_copy.extend(lis)\n",
    "  return list_copy\n",
    "\n",
    "list_1 = [4, 5, 6, 7, 8, 9]\n",
    "print('cloneing a list :',colneing(list_1))"
   ]
  },
  {
   "cell_type": "markdown",
   "metadata": {},
   "source": [
    "Count occurrences of an element in a list,"
   ]
  },
  {
   "cell_type": "code",
   "execution_count": 54,
   "metadata": {},
   "outputs": [
    {
     "data": {
      "text/plain": [
       "0"
      ]
     },
     "execution_count": 54,
     "metadata": {},
     "output_type": "execute_result"
    }
   ],
   "source": [
    "def count_occurence(lst,x):\n",
    "  count = 0\n",
    "  for i in lst:\n",
    "    if i == x:\n",
    "      count = count+1\n",
    "  return count\n",
    "\n",
    "lst = [15, 6, 7, 10, 12, 20, 10, 28, 10]\n",
    "count_occurence(lst, 11)"
   ]
  },
  {
   "cell_type": "code",
   "execution_count": 57,
   "metadata": {},
   "outputs": [
    {
     "name": "stdout",
     "output_type": "stream",
     "text": [
      "{'a': 1, 'b': 2, 'c': 3, 'd': 2, 1: 6}\n"
     ]
    }
   ],
   "source": [
    "# using collection methods for counter \n",
    "from collections import Counter\n",
    "lst = ['a','b','b','c','c','c','d','d',1,1,1,1,1,1]\n",
    "counter = dict(Counter(lst))\n",
    "print(counter)"
   ]
  },
  {
   "cell_type": "code",
   "execution_count": 58,
   "metadata": {},
   "outputs": [
    {
     "name": "stdout",
     "output_type": "stream",
     "text": [
      "{'a': 1, 'b': 2, 'c': 3, 'd': 2, 1: 6}\n"
     ]
    }
   ],
   "source": [
    "# usning for loop \n",
    "lst = ['a','b','b','c','c','c','d','d',1,1,1,1,1,1]\n",
    "frequecy = {}\n",
    "for i in lst:\n",
    "  if i in frequecy:\n",
    "    frequecy[i] += 1\n",
    "  else:\n",
    "    frequecy[i] = 1\n",
    "print(frequecy)"
   ]
  },
  {
   "cell_type": "code",
   "execution_count": 64,
   "metadata": {},
   "outputs": [
    {
     "name": "stdout",
     "output_type": "stream",
     "text": [
      "b    3\n",
      "a    2\n",
      "3    2\n",
      "4    2\n",
      "5    2\n",
      "dtype: int64\n"
     ]
    }
   ],
   "source": [
    "# using pandas \n",
    "import pandas as pd \n",
    "l = ['a', 'a', 'b', 'b', 'b', 3, 3, 4, 4, 5, 5]\n",
    "count = pd.Series(l).value_counts()\n",
    "print(count)"
   ]
  },
  {
   "cell_type": "markdown",
   "metadata": {},
   "source": [
    "Python Program to find sum and average of List in Python"
   ]
  },
  {
   "cell_type": "code",
   "execution_count": 65,
   "metadata": {},
   "outputs": [
    {
     "name": "stdout",
     "output_type": "stream",
     "text": [
      "sum of list 73\n",
      "average of list 9.125\n"
     ]
    }
   ],
   "source": [
    "l = [4,5,23,1,2,9,9,20]\n",
    "sum_of_list = sum(l)\n",
    "average_list = sum_of_list/ len(l)\n",
    "print('sum of list', sum_of_list)\n",
    "print('average of list',average_list)"
   ]
  },
  {
   "cell_type": "code",
   "execution_count": 66,
   "metadata": {},
   "outputs": [
    {
     "name": "stdout",
     "output_type": "stream",
     "text": [
      "sum of list : 73\n",
      "average of list : 9.125\n"
     ]
    }
   ],
   "source": [
    "# Using statistics method \n",
    "import statistics as st\n",
    "l = [4,5,23,1,2,9,9,20]\n",
    "sum1 = sum(l)\n",
    "average = st.mean(l)\n",
    "print('sum of list :', sum1)\n",
    "print(\"average of list :\",average)"
   ]
  },
  {
   "cell_type": "code",
   "execution_count": 67,
   "metadata": {},
   "outputs": [
    {
     "name": "stdout",
     "output_type": "stream",
     "text": [
      "sum of list : 73\n",
      "average of list : 9.125\n"
     ]
    }
   ],
   "source": [
    "# using numpy \n",
    "import numpy as np \n",
    "l = [4,5,23,1,2,9,9,20]\n",
    "sum_list = np.sum(l)\n",
    "average_list = np.average(l)\n",
    "print('sum of list :', sum_list)\n",
    "print(\"average of list :\",average_list)"
   ]
  },
  {
   "cell_type": "markdown",
   "metadata": {},
   "source": [
    "Python | Sum of number digits in List"
   ]
  },
  {
   "cell_type": "code",
   "execution_count": 74,
   "metadata": {},
   "outputs": [
    {
     "name": "stdout",
     "output_type": "stream",
     "text": [
      "[9, 9, 13, 15, 9, 6, 12, 9]\n"
     ]
    }
   ],
   "source": [
    "numbers = [90,45,67,78,90,123,345,12222]\n",
    "results = []\n",
    "for number in numbers:\n",
    "  digit_sum = 0\n",
    "  for digit in str(number):\n",
    "    digit_sum += int(digit)\n",
    "  results.append(digit_sum)\n",
    "print(results)"
   ]
  },
  {
   "cell_type": "code",
   "execution_count": 77,
   "metadata": {},
   "outputs": [
    {
     "name": "stdout",
     "output_type": "stream",
     "text": [
      "[2, 7, 11, 13]\n"
     ]
    }
   ],
   "source": [
    "def digit_sum(list_num):\n",
    "  results = []\n",
    "  for number in list_num:\n",
    "    sum_ = 0\n",
    "    for digit in str(number):\n",
    "      sum_ += int(digit)\n",
    "    results.append(sum_)\n",
    "  return results\n",
    "x = [11,34,56,67]\n",
    "print(digit_sum(x))\n"
   ]
  },
  {
   "cell_type": "code",
   "execution_count": 79,
   "metadata": {},
   "outputs": [
    {
     "name": "stdout",
     "output_type": "stream",
     "text": [
      "sum of digit [3, 10, 11, 9, 10, 10, 9, '4', 9, 8, 8]\n"
     ]
    }
   ],
   "source": [
    "# using reduce \n",
    "from functools import reduce\n",
    "l = [21,91,92,72,82,73,63,4,54,35,125]\n",
    "res= [reduce(lambda x, y: int(x)+ int(y), list(str(i))) for i in l]\n",
    "print('sum of digit', res)"
   ]
  },
  {
   "cell_type": "markdown",
   "metadata": {},
   "source": [
    "Python | Multiply all numbers in the list"
   ]
  },
  {
   "cell_type": "code",
   "execution_count": 81,
   "metadata": {},
   "outputs": [
    {
     "name": "stdout",
     "output_type": "stream",
     "text": [
      "multyply is : 6\n",
      "multyply is : 72\n"
     ]
    }
   ],
   "source": [
    "def multiply(mylsit):\n",
    "  results =1 \n",
    "  for x in mylsit:\n",
    "    results = results * x\n",
    "  return results\n",
    "\n",
    "list1 = [1, 2, 3]\n",
    "list2 = [3, 2, 4,3]\n",
    "print('multyply is :', multiply(list1))\n",
    "print('multyply is :', multiply(list2))"
   ]
  },
  {
   "cell_type": "code",
   "execution_count": 87,
   "metadata": {},
   "outputs": [
    {
     "name": "stdout",
     "output_type": "stream",
     "text": [
      "90\n"
     ]
    }
   ],
   "source": [
    "# using numpy \n",
    "import numpy as np \n",
    "list2= [3,5,6]\n",
    "result = np.prod(list2)\n",
    "print(result)"
   ]
  },
  {
   "cell_type": "code",
   "execution_count": 90,
   "metadata": {},
   "outputs": [
    {
     "name": "stdout",
     "output_type": "stream",
     "text": [
      "multification is : 144\n"
     ]
    }
   ],
   "source": [
    "# using functools \n",
    "from functools import reduce\n",
    "list2=[12,3,4]\n",
    "res = reduce((lambda x,y: x*y), list2)\n",
    "print('multification is :', res)"
   ]
  },
  {
   "cell_type": "code",
   "execution_count": 91,
   "metadata": {},
   "outputs": [
    {
     "name": "stdout",
     "output_type": "stream",
     "text": [
      "120\n"
     ]
    }
   ],
   "source": [
    "# using math\n",
    "import math \n",
    "lsit1=[2,3,4,5]\n",
    "resu = math.prod(lsit1)\n",
    "print(resu)"
   ]
  },
  {
   "cell_type": "markdown",
   "metadata": {},
   "source": [
    "Python program to find smallest number in a list"
   ]
  },
  {
   "cell_type": "code",
   "execution_count": 93,
   "metadata": {},
   "outputs": [
    {
     "name": "stdout",
     "output_type": "stream",
     "text": [
      "smallest element is: 0.2\n"
     ]
    }
   ],
   "source": [
    "list1 = [3,4,12,45,6,11,0.2]\n",
    "list1.sort()\n",
    "print('smallest element is:', list1[0])"
   ]
  },
  {
   "cell_type": "code",
   "execution_count": 95,
   "metadata": {},
   "outputs": [
    {
     "name": "stdout",
     "output_type": "stream",
     "text": [
      "smallest element is: 0.2\n"
     ]
    }
   ],
   "source": [
    "# using min \n",
    "list1 = [3,4,12,45,6,11,0.2]\n",
    "print('smallest element is:', min(list1))"
   ]
  },
  {
   "cell_type": "code",
   "execution_count": 96,
   "metadata": {},
   "outputs": [
    {
     "name": "stdout",
     "output_type": "stream",
     "text": [
      "0.2\n"
     ]
    }
   ],
   "source": [
    "# reduce \n",
    "from functools import reduce\n",
    "list1 = [3,4,12,45,6,11,0.2]\n",
    "print(reduce(min,list1))"
   ]
  },
  {
   "cell_type": "code",
   "execution_count": 97,
   "metadata": {},
   "outputs": [
    {
     "name": "stdout",
     "output_type": "stream",
     "text": [
      "smallest number is: 0.2\n"
     ]
    }
   ],
   "source": [
    "# using numpy for it \n",
    "import numpy as np \n",
    "list1 = [3,4,12,45,6,11,0.2]\n",
    "mini = np.min(list1)\n",
    "print('smallest number is:', mini)"
   ]
  },
  {
   "cell_type": "markdown",
   "metadata": {},
   "source": [
    "Python program to find second largest number in a list"
   ]
  },
  {
   "cell_type": "code",
   "execution_count": 101,
   "metadata": {},
   "outputs": [
    {
     "name": "stdout",
     "output_type": "stream",
     "text": [
      "second largest element is: 45\n"
     ]
    }
   ],
   "source": [
    "list1 = [10, 20, 20, 4, 45, 45, 45, 99, 99]\n",
    "second = list(set(list1))\n",
    "second.sort()\n",
    "print('second largest element is:', second[-2])"
   ]
  },
  {
   "cell_type": "code",
   "execution_count": null,
   "metadata": {},
   "outputs": [],
   "source": []
  }
 ],
 "metadata": {
  "kernelspec": {
   "display_name": "Python 3",
   "language": "python",
   "name": "python3"
  },
  "language_info": {
   "codemirror_mode": {
    "name": "ipython",
    "version": 3
   },
   "file_extension": ".py",
   "mimetype": "text/x-python",
   "name": "python",
   "nbconvert_exporter": "python",
   "pygments_lexer": "ipython3",
   "version": "3.10.11"
  },
  "orig_nbformat": 4
 },
 "nbformat": 4,
 "nbformat_minor": 2
}
